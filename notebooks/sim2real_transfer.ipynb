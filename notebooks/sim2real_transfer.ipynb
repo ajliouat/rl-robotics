{
 "cells": [
  {
   "cell_type": "code",
   "execution_count": null,
   "metadata": {},
   "outputs": [],
   "source": [
    "# Example: Sim2Real transfer\n",
    "from src.envs.robotics_env import RoboticsEnv\n",
    "from models.policies.ppo import PPO\n",
    "\n",
    "# Initialize environment and policy\n",
    "env = RoboticsEnv()\n",
    "policy = PPO(env, config)\n",
    "\n",
    "# Load trained policy\n",
    "policy.load(\"models/checkpoints/ppo_policy.pth\")\n",
    "\n",
    "# Run policy in real-world environment\n",
    "obs = env.reset()\n",
    "done = False\n",
    "while not done:\n",
    "    action, _ = policy(obs)\n",
    "    obs, reward, done, info = env.step(action)"
   ]
  }
 ],
 "metadata": {
  "language_info": {
   "name": "python"
  }
 },
 "nbformat": 4,
 "nbformat_minor": 2
}
