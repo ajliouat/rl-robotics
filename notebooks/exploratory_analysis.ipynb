{
 "cells": [
  {
   "cell_type": "code",
   "execution_count": null,
   "metadata": {},
   "outputs": [],
   "source": [
    "# Example: Load and visualize environment\n",
    "from src.envs.robotics_env import RoboticsEnv\n",
    "import matplotlib.pyplot as plt\n",
    "\n",
    "# Initialize environment\n",
    "env = RoboticsEnv()\n",
    "obs = env.reset()\n",
    "\n",
    "# Visualize observation\n",
    "plt.imshow(obs)\n",
    "plt.show()"
   ]
  }
 ],
 "metadata": {
  "language_info": {
   "name": "python"
  }
 },
 "nbformat": 4,
 "nbformat_minor": 2
}
